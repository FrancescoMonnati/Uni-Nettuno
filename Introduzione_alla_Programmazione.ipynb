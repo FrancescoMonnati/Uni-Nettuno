{
  "nbformat": 4,
  "nbformat_minor": 0,
  "metadata": {
    "colab": {
      "provenance": []
    },
    "kernelspec": {
      "name": "python3",
      "display_name": "Python 3"
    },
    "language_info": {
      "name": "python"
    }
  },
  "cells": [
    {
      "cell_type": "markdown",
      "source": [
        "# Introduzione alla Programmazione in Python"
      ],
      "metadata": {
        "id": "5qPec7x8OfN_"
      }
    },
    {
      "cell_type": "markdown",
      "source": [
        "## 1. Hello World"
      ],
      "metadata": {
        "id": "pWt30Vg9O8wU"
      }
    },
    {
      "cell_type": "code",
      "execution_count": 1,
      "metadata": {
        "colab": {
          "base_uri": "https://localhost:8080/"
        },
        "id": "m1K6e2eDNoDi",
        "outputId": "73fa698f-3e6c-43ee-9f0a-792868e7f932"
      },
      "outputs": [
        {
          "output_type": "stream",
          "name": "stdout",
          "text": [
            "Hello World\n"
          ]
        }
      ],
      "source": [
        "print(\"Hello World\")"
      ]
    },
    {
      "cell_type": "markdown",
      "source": [
        "print: funzione per produrre un output testuale, una variabile testuale in python è racchiusa dai quote, singoli ', oppure doppi \". Tale variabile prende il nome di stringa"
      ],
      "metadata": {
        "id": "thRw1CQHPVQj"
      }
    },
    {
      "cell_type": "markdown",
      "source": [
        "# 2. Variabili"
      ],
      "metadata": {
        "id": "mZSv-irjYS1b"
      }
    },
    {
      "cell_type": "code",
      "source": [
        "var = \"Hello World\"\n",
        "print(var)"
      ],
      "metadata": {
        "colab": {
          "base_uri": "https://localhost:8080/"
        },
        "id": "JoxoyO2dP3IF",
        "outputId": "bfd867b7-5592-41a1-ee30-7782a5ada3c0"
      },
      "execution_count": 27,
      "outputs": [
        {
          "output_type": "stream",
          "name": "stdout",
          "text": [
            "Hello World\n"
          ]
        }
      ]
    },
    {
      "cell_type": "markdown",
      "source": [
        "Qui abbiamo associato ad una variabile, identificata dal nome var, una stringa ed abbiamo applicato la funzione print sulla variabile.\n",
        "\n",
        "Le variabili servono ad immagazzinare temporaneamente dati nella memoria del computer"
      ],
      "metadata": {
        "id": "9Gnmmo7nQfVL"
      }
    },
    {
      "cell_type": "code",
      "source": [
        "type(var)"
      ],
      "metadata": {
        "colab": {
          "base_uri": "https://localhost:8080/"
        },
        "id": "Qq0jX50UQeFv",
        "outputId": "05e436bd-542c-4c30-f0ed-7b4a3fd917f6"
      },
      "execution_count": 3,
      "outputs": [
        {
          "output_type": "execute_result",
          "data": {
            "text/plain": [
              "str"
            ]
          },
          "metadata": {},
          "execution_count": 3
        }
      ]
    },
    {
      "cell_type": "markdown",
      "source": [
        "Esistono altri tipi di variabili, quali int (numeri interi), float (numeri reali), bool (variabili logiche)"
      ],
      "metadata": {
        "id": "EbDJRUvBUw88"
      }
    },
    {
      "cell_type": "code",
      "source": [
        "num = 5\n",
        "print(num)"
      ],
      "metadata": {
        "colab": {
          "base_uri": "https://localhost:8080/"
        },
        "id": "gAU_lX0mTY6U",
        "outputId": "1f0a5f2c-29d9-4cec-92a7-a5b22147b8d9"
      },
      "execution_count": 4,
      "outputs": [
        {
          "output_type": "stream",
          "name": "stdout",
          "text": [
            "5\n"
          ]
        }
      ]
    },
    {
      "cell_type": "markdown",
      "source": [
        "print funziona anche su variabili di tipo non stringa, che vengono temporanemante trasformate in stringhe"
      ],
      "metadata": {
        "id": "X8S3EjFMU3sb"
      }
    },
    {
      "cell_type": "code",
      "source": [
        "type(num)"
      ],
      "metadata": {
        "colab": {
          "base_uri": "https://localhost:8080/"
        },
        "id": "5VMrIavtUMB-",
        "outputId": "d12a890f-ab89-4b7c-b3f9-e03326dda5cd"
      },
      "execution_count": 6,
      "outputs": [
        {
          "output_type": "execute_result",
          "data": {
            "text/plain": [
              "int"
            ]
          },
          "metadata": {},
          "execution_count": 6
        }
      ]
    },
    {
      "cell_type": "markdown",
      "source": [
        "Una variabile puo' essere sovrascritta"
      ],
      "metadata": {
        "id": "y4SR61GlVUm_"
      }
    },
    {
      "cell_type": "code",
      "source": [
        "num = 7\n",
        "print(num)"
      ],
      "metadata": {
        "colab": {
          "base_uri": "https://localhost:8080/"
        },
        "id": "ZTHfjRiTVZGI",
        "outputId": "d0e1ccb3-e971-476d-9dc7-6c154eb66f0f"
      },
      "execution_count": 9,
      "outputs": [
        {
          "output_type": "stream",
          "name": "stdout",
          "text": [
            "7\n"
          ]
        }
      ]
    },
    {
      "cell_type": "markdown",
      "source": [
        "Una variabile booleana puo' assumere valore Vero (1) o Falso (0)"
      ],
      "metadata": {
        "id": "TkOi2y6WV0g5"
      }
    },
    {
      "cell_type": "code",
      "source": [
        "logic = True\n",
        "type(logic)"
      ],
      "metadata": {
        "colab": {
          "base_uri": "https://localhost:8080/"
        },
        "id": "LU8aC7zQVz6B",
        "outputId": "8c8363b3-1857-487c-9d9b-55afb33cdb33"
      },
      "execution_count": 19,
      "outputs": [
        {
          "output_type": "execute_result",
          "data": {
            "text/plain": [
              "bool"
            ]
          },
          "metadata": {},
          "execution_count": 19
        }
      ]
    },
    {
      "cell_type": "markdown",
      "source": [
        "Casting delle variabili, quas"
      ],
      "metadata": {
        "id": "b26ZsLefXUup"
      }
    },
    {
      "cell_type": "code",
      "source": [
        "text_num = str(num)\n",
        "type(text_num)"
      ],
      "metadata": {
        "colab": {
          "base_uri": "https://localhost:8080/"
        },
        "id": "aPJrcj5zW5wC",
        "outputId": "edf81094-7bd3-43f3-8968-5c79d0754e9a"
      },
      "execution_count": 13,
      "outputs": [
        {
          "output_type": "execute_result",
          "data": {
            "text/plain": [
              "str"
            ]
          },
          "metadata": {},
          "execution_count": 13
        }
      ]
    },
    {
      "cell_type": "code",
      "source": [
        "text_num"
      ],
      "metadata": {
        "colab": {
          "base_uri": "https://localhost:8080/",
          "height": 35
        },
        "id": "U5J4NzeAXB6r",
        "outputId": "9675c065-6d57-4c65-8a6e-4e14dade0581"
      },
      "execution_count": 14,
      "outputs": [
        {
          "output_type": "execute_result",
          "data": {
            "text/plain": [
              "'7'"
            ],
            "application/vnd.google.colaboratory.intrinsic+json": {
              "type": "string"
            }
          },
          "metadata": {},
          "execution_count": 14
        }
      ]
    },
    {
      "cell_type": "code",
      "source": [
        "int(logic)"
      ],
      "metadata": {
        "colab": {
          "base_uri": "https://localhost:8080/"
        },
        "id": "sxYHP51rXblK",
        "outputId": "47e8bbc4-31be-429f-ae38-d36b2a38f919"
      },
      "execution_count": 21,
      "outputs": [
        {
          "output_type": "execute_result",
          "data": {
            "text/plain": [
              "1"
            ]
          },
          "metadata": {},
          "execution_count": 21
        }
      ]
    },
    {
      "cell_type": "code",
      "source": [
        "real = 5.3\n",
        "int(real)"
      ],
      "metadata": {
        "colab": {
          "base_uri": "https://localhost:8080/"
        },
        "id": "CLwMroCCYpDy",
        "outputId": "9d32eed9-651d-4208-9204-f742fe088b75"
      },
      "execution_count": 18,
      "outputs": [
        {
          "output_type": "execute_result",
          "data": {
            "text/plain": [
              "5"
            ]
          },
          "metadata": {},
          "execution_count": 18
        }
      ]
    },
    {
      "cell_type": "code",
      "source": [
        "float(logic)"
      ],
      "metadata": {
        "colab": {
          "base_uri": "https://localhost:8080/"
        },
        "id": "11h_vtwrYvNJ",
        "outputId": "d06da344-2bf9-40a0-e417-367d437913fc"
      },
      "execution_count": 22,
      "outputs": [
        {
          "output_type": "execute_result",
          "data": {
            "text/plain": [
              "1.0"
            ]
          },
          "metadata": {},
          "execution_count": 22
        }
      ]
    },
    {
      "cell_type": "code",
      "source": [
        "bool(5.3)"
      ],
      "metadata": {
        "colab": {
          "base_uri": "https://localhost:8080/"
        },
        "id": "eOAa7_qTZEO6",
        "outputId": "2f941b9d-5e4a-4676-8f51-0ff6dfb88ea9"
      },
      "execution_count": 24,
      "outputs": [
        {
          "output_type": "execute_result",
          "data": {
            "text/plain": [
              "True"
            ]
          },
          "metadata": {},
          "execution_count": 24
        }
      ]
    },
    {
      "cell_type": "code",
      "source": [
        "bool(0)"
      ],
      "metadata": {
        "colab": {
          "base_uri": "https://localhost:8080/"
        },
        "id": "W4rxc1gRZK_S",
        "outputId": "a64e8152-9200-4bef-c52c-27755bdf5113"
      },
      "execution_count": 25,
      "outputs": [
        {
          "output_type": "execute_result",
          "data": {
            "text/plain": [
              "False"
            ]
          },
          "metadata": {},
          "execution_count": 25
        }
      ]
    },
    {
      "cell_type": "code",
      "source": [
        "bool(var)"
      ],
      "metadata": {
        "colab": {
          "base_uri": "https://localhost:8080/"
        },
        "id": "RJmlKJXfZNaR",
        "outputId": "b6bab952-999b-42f5-e2d0-86d1ec7cd9a8"
      },
      "execution_count": 28,
      "outputs": [
        {
          "output_type": "execute_result",
          "data": {
            "text/plain": [
              "True"
            ]
          },
          "metadata": {},
          "execution_count": 28
        }
      ]
    },
    {
      "cell_type": "code",
      "source": [
        "int(var)"
      ],
      "metadata": {
        "colab": {
          "base_uri": "https://localhost:8080/",
          "height": 141
        },
        "id": "i9LSF9ZmZ8dG",
        "outputId": "dd17a8fb-6edc-43a3-af2e-c7f901fac34a"
      },
      "execution_count": 29,
      "outputs": [
        {
          "output_type": "error",
          "ename": "ValueError",
          "evalue": "invalid literal for int() with base 10: 'Hello World'",
          "traceback": [
            "\u001b[0;31m---------------------------------------------------------------------------\u001b[0m",
            "\u001b[0;31mValueError\u001b[0m                                Traceback (most recent call last)",
            "\u001b[0;32m<ipython-input-29-ec14b70ac879>\u001b[0m in \u001b[0;36m<cell line: 1>\u001b[0;34m()\u001b[0m\n\u001b[0;32m----> 1\u001b[0;31m \u001b[0mint\u001b[0m\u001b[0;34m(\u001b[0m\u001b[0mvar\u001b[0m\u001b[0;34m)\u001b[0m\u001b[0;34m\u001b[0m\u001b[0;34m\u001b[0m\u001b[0m\n\u001b[0m",
            "\u001b[0;31mValueError\u001b[0m: invalid literal for int() with base 10: 'Hello World'"
          ]
        }
      ]
    },
    {
      "cell_type": "code",
      "source": [
        "var = \"5\"\n",
        "int(var)"
      ],
      "metadata": {
        "colab": {
          "base_uri": "https://localhost:8080/"
        },
        "id": "bfBmVD5kaFJL",
        "outputId": "8db6a0dc-939c-4aab-b9d2-f880b7954d8e"
      },
      "execution_count": 30,
      "outputs": [
        {
          "output_type": "execute_result",
          "data": {
            "text/plain": [
              "5"
            ]
          },
          "metadata": {},
          "execution_count": 30
        }
      ]
    },
    {
      "cell_type": "markdown",
      "source": [
        "In questa serie di esempi si sono esplorati i diversi tipi di variabili e come passare da un tipo ad un altro attraverso le apposite funzioni int() float() e bool(), quest'ultima come si è visto restituisce sempre la variabile True fatta eccezione per 0 o oggetti vuoti che definiremo più avanti."
      ],
      "metadata": {
        "id": "1vczbgPLZdYA"
      }
    },
    {
      "cell_type": "markdown",
      "source": [
        "# 3. Operazioni"
      ],
      "metadata": {
        "id": "ltio0iFIaOZB"
      }
    },
    {
      "cell_type": "markdown",
      "source": [
        "Operazioni aritmetiche:\n",
        "\n",
        "\"+\" -----> Addizione;\n",
        "\"-\" ------> Sottrazione;\n",
        "\"*\" ------> Moltiplicazione;\n",
        "\"/\" -------> Divisione;\n",
        "\"//\" -----> Parte intera;\n",
        "\"%\" ------> Resto della divisione;<br>\n",
        "\"**\" -----> Esponente;\n",
        "\n",
        "Operazioni di confronto:\n",
        "\n",
        "\">, >=, <\"\n",
        "\"!=\" -------> Diverso;\n",
        "\"==\" -------> Equivalente;"
      ],
      "metadata": {
        "id": "Zet2H5FOadeR"
      }
    },
    {
      "cell_type": "code",
      "source": [
        "5 + 3"
      ],
      "metadata": {
        "colab": {
          "base_uri": "https://localhost:8080/"
        },
        "id": "d4BibM7SaRVC",
        "outputId": "f638ee6a-4db5-4668-85d0-cbb64caf978d"
      },
      "execution_count": 31,
      "outputs": [
        {
          "output_type": "execute_result",
          "data": {
            "text/plain": [
              "8"
            ]
          },
          "metadata": {},
          "execution_count": 31
        }
      ]
    },
    {
      "cell_type": "code",
      "source": [
        "num_1 = 5\n",
        "num_2 = 3\n",
        "num_1 + num_2"
      ],
      "metadata": {
        "colab": {
          "base_uri": "https://localhost:8080/"
        },
        "id": "fIsQt-dpdGaY",
        "outputId": "1ba25fa2-1a25-47f3-873f-9abcddd089eb"
      },
      "execution_count": 37,
      "outputs": [
        {
          "output_type": "execute_result",
          "data": {
            "text/plain": [
              "8"
            ]
          },
          "metadata": {},
          "execution_count": 37
        }
      ]
    },
    {
      "cell_type": "markdown",
      "source": [
        "Sono concesse alcune operazioni aritmetiche anche con le variabili di tipo stringa, in questo caso con l'addizione si ha una concatenazione.\n",
        "Esplorare tipo di operazioni con differenti tipi di variabili"
      ],
      "metadata": {
        "id": "PYzoWj_PdWaV"
      }
    },
    {
      "cell_type": "code",
      "source": [
        "str(num_1) + str(num_2)"
      ],
      "metadata": {
        "colab": {
          "base_uri": "https://localhost:8080/",
          "height": 35
        },
        "id": "8soD2nbfdMbD",
        "outputId": "fbfd696e-2d67-42e7-f75f-955968a6cc8e"
      },
      "execution_count": 33,
      "outputs": [
        {
          "output_type": "execute_result",
          "data": {
            "text/plain": [
              "'53'"
            ],
            "application/vnd.google.colaboratory.intrinsic+json": {
              "type": "string"
            }
          },
          "metadata": {},
          "execution_count": 33
        }
      ]
    },
    {
      "cell_type": "code",
      "source": [
        "num_2 = num_2 + 3\n",
        "num_2"
      ],
      "metadata": {
        "colab": {
          "base_uri": "https://localhost:8080/"
        },
        "id": "fyNBlsCKi9tD",
        "outputId": "6746c1f9-cd90-421c-c72b-7c69aef1f2eb"
      },
      "execution_count": 38,
      "outputs": [
        {
          "output_type": "execute_result",
          "data": {
            "text/plain": [
              "6"
            ]
          },
          "metadata": {},
          "execution_count": 38
        }
      ]
    },
    {
      "cell_type": "code",
      "source": [
        "num_2 += 3\n",
        "num_2"
      ],
      "metadata": {
        "colab": {
          "base_uri": "https://localhost:8080/"
        },
        "id": "I1Q_1-1FjI-f",
        "outputId": "78f16b0e-03d2-4586-e1ab-50b5e0f608c0"
      },
      "execution_count": 39,
      "outputs": [
        {
          "output_type": "execute_result",
          "data": {
            "text/plain": [
              "9"
            ]
          },
          "metadata": {},
          "execution_count": 39
        }
      ]
    },
    {
      "cell_type": "markdown",
      "source": [
        "Le operazioni di confronto restituiscono una variabile booleana che esprime l'esito del confronto."
      ],
      "metadata": {
        "id": "I1fXD2ofdw_4"
      }
    },
    {
      "cell_type": "code",
      "source": [
        "num_1 > num_2"
      ],
      "metadata": {
        "colab": {
          "base_uri": "https://localhost:8080/"
        },
        "id": "vs9kjrzpdrxt",
        "outputId": "d0998d1f-7275-42eb-e424-2886165a40de"
      },
      "execution_count": 34,
      "outputs": [
        {
          "output_type": "execute_result",
          "data": {
            "text/plain": [
              "True"
            ]
          },
          "metadata": {},
          "execution_count": 34
        }
      ]
    },
    {
      "cell_type": "markdown",
      "source": [
        "Priorità nelle operazioni"
      ],
      "metadata": {
        "id": "0o70jRfbjXD8"
      }
    },
    {
      "cell_type": "code",
      "source": [
        "3 + 5 * 3"
      ],
      "metadata": {
        "colab": {
          "base_uri": "https://localhost:8080/"
        },
        "id": "E36dwmUXjaDc",
        "outputId": "f424c071-c191-4668-8548-efb1cfd15f0f"
      },
      "execution_count": 40,
      "outputs": [
        {
          "output_type": "execute_result",
          "data": {
            "text/plain": [
              "18"
            ]
          },
          "metadata": {},
          "execution_count": 40
        }
      ]
    },
    {
      "cell_type": "markdown",
      "source": [
        "Operazioni booleane:\n",
        "\n",
        "and  ----> operazione tra due proposizioni, restituisce True se entrambe vere; <br>\n",
        "or ------> se almeno una delle due proposizioni vera restituisce True <br>\n",
        "not -----> operazione su una propozione, restituisce la negazione dell'esito della proposizione"
      ],
      "metadata": {
        "id": "BlXCudIOjmwa"
      }
    },
    {
      "cell_type": "code",
      "source": [
        "num_1 = 1\n",
        "num_2 = 10\n",
        "print(num_1 > 0 and num_2 < 100)"
      ],
      "metadata": {
        "colab": {
          "base_uri": "https://localhost:8080/"
        },
        "id": "h5-Gg1oNjttR",
        "outputId": "35d362c7-76ca-4805-c78b-903cd4f79a28"
      },
      "execution_count": 42,
      "outputs": [
        {
          "output_type": "stream",
          "name": "stdout",
          "text": [
            "True\n"
          ]
        }
      ]
    },
    {
      "cell_type": "code",
      "source": [
        "print(not(num_1 > 0))"
      ],
      "metadata": {
        "colab": {
          "base_uri": "https://localhost:8080/"
        },
        "id": "jSbMFbrIk_c0",
        "outputId": "24805a2d-5e0f-4193-cb80-d3277ced1c42"
      },
      "execution_count": 43,
      "outputs": [
        {
          "output_type": "stream",
          "name": "stdout",
          "text": [
            "False\n"
          ]
        }
      ]
    },
    {
      "cell_type": "markdown",
      "source": [
        "# 4. Istruzione IF"
      ],
      "metadata": {
        "id": "sOQVdz8mmr7b"
      }
    },
    {
      "cell_type": "code",
      "source": [
        "temperatura = 34\n",
        "if temperatura >= 30:\n",
        "  print(\"La temperatura è elevata\")"
      ],
      "metadata": {
        "colab": {
          "base_uri": "https://localhost:8080/"
        },
        "id": "qDWFzINgm50Q",
        "outputId": "34dd04ea-3e1f-45c7-bd45-ed43a397e413"
      },
      "execution_count": 44,
      "outputs": [
        {
          "output_type": "stream",
          "name": "stdout",
          "text": [
            "La temperatura è elevata\n"
          ]
        }
      ]
    },
    {
      "cell_type": "code",
      "source": [
        "temperatura = 29\n",
        "if temperatura >= 30:\n",
        "  print(\"La temperatura è elevata\")\n",
        "elif temperatura >= 20 and temperatura < 30:\n",
        "  print(\"La temperatura è moderata\")\n",
        "else:\n",
        "  print(\"La temperatura è bassa\")\n",
        "\n",
        "print(\"Finito\")"
      ],
      "metadata": {
        "id": "jhNAtdUWsoVi"
      },
      "execution_count": 45,
      "outputs": []
    },
    {
      "cell_type": "markdown",
      "source": [
        "Notare l'indentazione delle funzioni print, e i due punti. Sono requisiti della sintassi di programmazione in python"
      ],
      "metadata": {
        "id": "J9dREC1ls8cF"
      }
    },
    {
      "cell_type": "markdown",
      "source": [
        "# 5. Strutture Dati\n",
        "\n",
        "liste ------> [ ] struttura ordinata e mutabile di variabili, si può accedere ad un singolo elemento tramite un indice che esprime la posizione del valore all'interno della sequenza, in maniera analoga per intervalli di valori;<br>\n",
        "array -------> array( ) oppure np.array( ) simile alla lista tuttavia può contenere solo sequenze di variabili relativee allo stesso tipo <br>\n",
        "tuple -----> ( ) struttura dati ordinata ma immutabile, una volta creata non è possibile cambiare la sequenza<br>\n",
        "dizionari -----> { } struttura non ordinata costituita da coppie chiave valore; <br>\n",
        "set ----> struttura non ordinata, mutabile di variabili uniche; <br>\n",
        "frozenset ----> versione immutabile di set; <br>\n",
        "\n",
        "consistono in differenti metodologie nel trattare un insieme di oggetti"
      ],
      "metadata": {
        "id": "Y1x2Z6eum02q"
      }
    },
    {
      "cell_type": "code",
      "source": [
        "lista = [5,2,4]\n",
        "lista"
      ],
      "metadata": {
        "colab": {
          "base_uri": "https://localhost:8080/"
        },
        "id": "-LCAjZkd0oBQ",
        "outputId": "689dc80b-dcc3-4dff-f7c9-e80c6cf95243"
      },
      "execution_count": 66,
      "outputs": [
        {
          "output_type": "execute_result",
          "data": {
            "text/plain": [
              "[5, 2, 4]"
            ]
          },
          "metadata": {},
          "execution_count": 66
        }
      ]
    },
    {
      "cell_type": "code",
      "source": [
        "type(lista)"
      ],
      "metadata": {
        "colab": {
          "base_uri": "https://localhost:8080/"
        },
        "id": "hIZgm-Cv1E3p",
        "outputId": "eabc6d0b-85d9-4409-dd36-5c3eb8be7627"
      },
      "execution_count": 71,
      "outputs": [
        {
          "output_type": "execute_result",
          "data": {
            "text/plain": [
              "list"
            ]
          },
          "metadata": {},
          "execution_count": 71
        }
      ]
    },
    {
      "cell_type": "markdown",
      "source": [
        "La funzione len() restituisce un numero pari alla lunghezza della sequenza"
      ],
      "metadata": {
        "id": "SxAaDt0k1K8b"
      }
    },
    {
      "cell_type": "code",
      "source": [
        "len(lista)"
      ],
      "metadata": {
        "colab": {
          "base_uri": "https://localhost:8080/"
        },
        "id": "wLXjKc-f1HWP",
        "outputId": "256b8324-f4fd-4ae7-b8d2-3e009a4a23de"
      },
      "execution_count": 72,
      "outputs": [
        {
          "output_type": "execute_result",
          "data": {
            "text/plain": [
              "4"
            ]
          },
          "metadata": {},
          "execution_count": 72
        }
      ]
    },
    {
      "cell_type": "code",
      "source": [
        "lista[0]"
      ],
      "metadata": {
        "colab": {
          "base_uri": "https://localhost:8080/"
        },
        "id": "7c-DnFKRyOWK",
        "outputId": "2d59ddeb-a4df-4c70-9ed8-de425b65d7a6"
      },
      "execution_count": 67,
      "outputs": [
        {
          "output_type": "execute_result",
          "data": {
            "text/plain": [
              "5"
            ]
          },
          "metadata": {},
          "execution_count": 67
        }
      ]
    },
    {
      "cell_type": "code",
      "source": [
        "lista = [\"Ciao\",4,5]\n",
        "lista[0]"
      ],
      "metadata": {
        "colab": {
          "base_uri": "https://localhost:8080/",
          "height": 35
        },
        "id": "VlTkghNyzOaB",
        "outputId": "c9a15992-68df-4b24-d03a-bc1778ed67a3"
      },
      "execution_count": 59,
      "outputs": [
        {
          "output_type": "execute_result",
          "data": {
            "text/plain": [
              "'Ciao'"
            ],
            "application/vnd.google.colaboratory.intrinsic+json": {
              "type": "string"
            }
          },
          "metadata": {},
          "execution_count": 59
        }
      ]
    },
    {
      "cell_type": "markdown",
      "source": [
        "Con lo slicing si decide l'intervallo selezionato della sequenza, estremo di destra escluso.\n",
        "\n",
        "Se estremo di sinistra non dichiarato, l'intervallo parte dal primo elemento, ovvero l'elemento nella posizione zero; <br>\n",
        "Se estremo di destra non dichiarato l'intervallo finisce con l'ultimo elemento; <br>\n",
        "E' possibile fornire numeri negativi come indici per la posizione, l'indice -1 corrisponde all'ultima posizione a prescindere dalla lunghezza della sequenza.\n"
      ],
      "metadata": {
        "id": "GV6sIBbe1fKY"
      }
    },
    {
      "cell_type": "code",
      "source": [
        "lista[:2]"
      ],
      "metadata": {
        "colab": {
          "base_uri": "https://localhost:8080/"
        },
        "id": "1G1clRGkzcqV",
        "outputId": "286846f4-9994-4fa8-e779-3cd2d9f9cee7"
      },
      "execution_count": 60,
      "outputs": [
        {
          "output_type": "execute_result",
          "data": {
            "text/plain": [
              "['Ciao', 4]"
            ]
          },
          "metadata": {},
          "execution_count": 60
        }
      ]
    },
    {
      "cell_type": "code",
      "source": [
        "import numpy as np\n",
        "\n",
        "arr = np.array([4,\"Ciao\"])\n",
        "arr"
      ],
      "metadata": {
        "colab": {
          "base_uri": "https://localhost:8080/"
        },
        "id": "IajrNj3bybSD",
        "outputId": "7238aaca-6d60-40d1-ed6f-d04f797fdffe"
      },
      "execution_count": 64,
      "outputs": [
        {
          "output_type": "execute_result",
          "data": {
            "text/plain": [
              "array(['4', 'Ciao'], dtype='<U21')"
            ]
          },
          "metadata": {},
          "execution_count": 64
        }
      ]
    },
    {
      "cell_type": "code",
      "source": [
        "arr = np.array([4,5])\n",
        "arr"
      ],
      "metadata": {
        "colab": {
          "base_uri": "https://localhost:8080/"
        },
        "id": "JV0-P8BezNrK",
        "outputId": "d7a6bdaa-0ca5-45d9-f585-e731d49fba3f"
      },
      "execution_count": 65,
      "outputs": [
        {
          "output_type": "execute_result",
          "data": {
            "text/plain": [
              "array([4, 5])"
            ]
          },
          "metadata": {},
          "execution_count": 65
        }
      ]
    },
    {
      "cell_type": "code",
      "source": [
        "lista.append(6)\n",
        "lista"
      ],
      "metadata": {
        "colab": {
          "base_uri": "https://localhost:8080/"
        },
        "id": "2GyGmpan0vvq",
        "outputId": "2f1b84ff-4a1f-472c-fe85-1e105258033b"
      },
      "execution_count": 68,
      "outputs": [
        {
          "output_type": "execute_result",
          "data": {
            "text/plain": [
              "[5, 2, 4, 6]"
            ]
          },
          "metadata": {},
          "execution_count": 68
        }
      ]
    },
    {
      "cell_type": "code",
      "source": [
        "tup = (4,3,\"Ciao\")\n",
        "tup"
      ],
      "metadata": {
        "colab": {
          "base_uri": "https://localhost:8080/"
        },
        "id": "CBDp6BrC00En",
        "outputId": "debd5545-b844-486a-d429-d42e8eea92b7"
      },
      "execution_count": 70,
      "outputs": [
        {
          "output_type": "execute_result",
          "data": {
            "text/plain": [
              "(4, 3, 'Ciao')"
            ]
          },
          "metadata": {},
          "execution_count": 70
        }
      ]
    },
    {
      "cell_type": "code",
      "source": [
        "tup[0]"
      ],
      "metadata": {
        "colab": {
          "base_uri": "https://localhost:8080/"
        },
        "id": "gvc1HNTx2RwQ",
        "outputId": "95809d15-fb22-48ce-9d54-004d0d248f85"
      },
      "execution_count": 74,
      "outputs": [
        {
          "output_type": "execute_result",
          "data": {
            "text/plain": [
              "4"
            ]
          },
          "metadata": {},
          "execution_count": 74
        }
      ]
    },
    {
      "cell_type": "code",
      "source": [
        "tup[0] = 5"
      ],
      "metadata": {
        "colab": {
          "base_uri": "https://localhost:8080/",
          "height": 141
        },
        "id": "CnFJn5uJ2bv4",
        "outputId": "e42d56be-84f1-4121-bcc1-49d58dee22b3"
      },
      "execution_count": 75,
      "outputs": [
        {
          "output_type": "error",
          "ename": "TypeError",
          "evalue": "'tuple' object does not support item assignment",
          "traceback": [
            "\u001b[0;31m---------------------------------------------------------------------------\u001b[0m",
            "\u001b[0;31mTypeError\u001b[0m                                 Traceback (most recent call last)",
            "\u001b[0;32m<ipython-input-75-aeb61b0651cd>\u001b[0m in \u001b[0;36m<cell line: 1>\u001b[0;34m()\u001b[0m\n\u001b[0;32m----> 1\u001b[0;31m \u001b[0mtup\u001b[0m\u001b[0;34m[\u001b[0m\u001b[0;36m0\u001b[0m\u001b[0;34m]\u001b[0m \u001b[0;34m=\u001b[0m \u001b[0;36m5\u001b[0m\u001b[0;34m\u001b[0m\u001b[0;34m\u001b[0m\u001b[0m\n\u001b[0m",
            "\u001b[0;31mTypeError\u001b[0m: 'tuple' object does not support item assignment"
          ]
        }
      ]
    },
    {
      "cell_type": "code",
      "source": [
        "lista[0] = \"Ho cambiato elemento\"\n",
        "lista"
      ],
      "metadata": {
        "colab": {
          "base_uri": "https://localhost:8080/"
        },
        "id": "JYWeUGiI2gTM",
        "outputId": "0f9aecac-c2f0-41bf-d906-edbeb4ee634e"
      },
      "execution_count": 76,
      "outputs": [
        {
          "output_type": "execute_result",
          "data": {
            "text/plain": [
              "['Ho cambiato elemento', 2, 4, 6]"
            ]
          },
          "metadata": {},
          "execution_count": 76
        }
      ]
    },
    {
      "cell_type": "markdown",
      "source": [
        "# 6. Cicli\n",
        "\n",
        "Struttura che ti permette di eseguire azioni per un certo numero di volte\n",
        "\n",
        "Ciclo While"
      ],
      "metadata": {
        "id": "WTLVMajk3juv"
      }
    },
    {
      "cell_type": "code",
      "source": [
        "i = 0\n",
        "\n",
        "while i < 5:\n",
        "  print(\"Sono dentro al ciclo while, passo numero {}\".format(i))\n",
        "  i += 1\n"
      ],
      "metadata": {
        "colab": {
          "base_uri": "https://localhost:8080/"
        },
        "id": "YLz6QSm-3qc7",
        "outputId": "1fb3ff1d-29d9-46da-d74c-2ef0dce2a6cd"
      },
      "execution_count": 77,
      "outputs": [
        {
          "output_type": "stream",
          "name": "stdout",
          "text": [
            "Sono dentro al ciclo while, passo numero 0\n",
            "Sono dentro al ciclo while, passo numero 1\n",
            "Sono dentro al ciclo while, passo numero 2\n",
            "Sono dentro al ciclo while, passo numero 3\n",
            "Sono dentro al ciclo while, passo numero 4\n"
          ]
        }
      ]
    },
    {
      "cell_type": "markdown",
      "source": [
        "Ciclo For"
      ],
      "metadata": {
        "id": "jDg4P_uM3q8A"
      }
    },
    {
      "cell_type": "code",
      "source": [
        "for elemento in lista:\n",
        "  print(elemento)"
      ],
      "metadata": {
        "colab": {
          "base_uri": "https://localhost:8080/"
        },
        "id": "p9Yt8yLX3rSY",
        "outputId": "62ccbde6-04f4-49e0-d379-487bdbf2bc98"
      },
      "execution_count": 78,
      "outputs": [
        {
          "output_type": "stream",
          "name": "stdout",
          "text": [
            "Ho cambiato elemento\n",
            "2\n",
            "4\n",
            "6\n"
          ]
        }
      ]
    },
    {
      "cell_type": "code",
      "source": [
        "for i in range(3):\n",
        "  print(lista[i])"
      ],
      "metadata": {
        "colab": {
          "base_uri": "https://localhost:8080/"
        },
        "id": "JdWxnlp536rI",
        "outputId": "225b30d3-eb13-403c-ec1e-f6ae35033bb6"
      },
      "execution_count": 79,
      "outputs": [
        {
          "output_type": "stream",
          "name": "stdout",
          "text": [
            "Ho cambiato elemento\n",
            "2\n",
            "4\n"
          ]
        }
      ]
    },
    {
      "cell_type": "markdown",
      "source": [
        "# 6. Funzioni\n",
        "\n",
        "Oggetto che svolge una funzione, blocco di codice riutilizzabile"
      ],
      "metadata": {
        "id": "36r8DlR1m6r7"
      }
    },
    {
      "cell_type": "code",
      "source": [
        "def valor_medio(a,b):\n",
        "  valor_medio = (a + b)/2\n",
        "\n",
        "  return valor_medio\n",
        "\n",
        "\n",
        "valor_medio(3,2)"
      ],
      "metadata": {
        "colab": {
          "base_uri": "https://localhost:8080/"
        },
        "id": "DDpBUDwy4KSI",
        "outputId": "4dfa1593-58e3-4295-f5e8-c98ccbdea170"
      },
      "execution_count": 80,
      "outputs": [
        {
          "output_type": "execute_result",
          "data": {
            "text/plain": [
              "2.5"
            ]
          },
          "metadata": {},
          "execution_count": 80
        }
      ]
    },
    {
      "cell_type": "code",
      "source": [
        "np.mean([3,2])"
      ],
      "metadata": {
        "colab": {
          "base_uri": "https://localhost:8080/"
        },
        "id": "1WQOLHPv4j76",
        "outputId": "a56adb58-77b3-4db0-97e0-8f58eeaed297"
      },
      "execution_count": 81,
      "outputs": [
        {
          "output_type": "execute_result",
          "data": {
            "text/plain": [
              "2.5"
            ]
          },
          "metadata": {},
          "execution_count": 81
        }
      ]
    },
    {
      "cell_type": "markdown",
      "source": [
        "# 7. Classi\n",
        "\n",
        "Un set di attributi e metodi (\"funzioni\")"
      ],
      "metadata": {
        "id": "5l_Ku-dpvWwT"
      }
    },
    {
      "cell_type": "code",
      "source": [
        "class operazioni_aritmetiche:\n",
        "\n",
        "  def __init__(self,a,b):\n",
        "     self.a = a\n",
        "     self.b = b\n",
        "\n",
        "  def somma(self):\n",
        "    return self.a + self.b\n",
        "\n",
        "  def valor_medio(self):\n",
        "    return (self.a + self.b)/2\n",
        "\n"
      ],
      "metadata": {
        "id": "r3WJIVI94uzh"
      },
      "execution_count": 85,
      "outputs": []
    },
    {
      "cell_type": "code",
      "source": [
        "op = operazioni_aritmetiche(3,2)"
      ],
      "metadata": {
        "id": "qvXkLhwq5lZZ"
      },
      "execution_count": 88,
      "outputs": []
    },
    {
      "cell_type": "code",
      "source": [
        "op.somma()"
      ],
      "metadata": {
        "colab": {
          "base_uri": "https://localhost:8080/"
        },
        "id": "wxIviz2051bH",
        "outputId": "ab7b9368-c614-4b04-fe0c-492608a92c14"
      },
      "execution_count": 90,
      "outputs": [
        {
          "output_type": "execute_result",
          "data": {
            "text/plain": [
              "5"
            ]
          },
          "metadata": {},
          "execution_count": 90
        }
      ]
    },
    {
      "cell_type": "code",
      "source": [
        "op.valor_medio()"
      ],
      "metadata": {
        "colab": {
          "base_uri": "https://localhost:8080/"
        },
        "id": "bfQhzlaJ56j6",
        "outputId": "80deb7a2-e548-4f26-8f23-b0e965f5e00b"
      },
      "execution_count": 91,
      "outputs": [
        {
          "output_type": "execute_result",
          "data": {
            "text/plain": [
              "2.5"
            ]
          },
          "metadata": {},
          "execution_count": 91
        }
      ]
    }
  ]
}