{
 "cells": [
  {
   "cell_type": "code",
   "execution_count": 1,
   "metadata": {
    "_cell_guid": "b1076dfc-b9ad-4769-8c92-a6c4dae69d19",
    "_uuid": "8f2839f25d086af736a60e9eeb907d3b93b6e0e5",
    "execution": {
     "iopub.execute_input": "2025-04-16T22:14:51.205476Z",
     "iopub.status.busy": "2025-04-16T22:14:51.205081Z",
     "iopub.status.idle": "2025-04-16T22:14:57.172775Z",
     "shell.execute_reply": "2025-04-16T22:14:57.171669Z",
     "shell.execute_reply.started": "2025-04-16T22:14:51.205452Z"
    },
    "trusted": true
   },
   "outputs": [
    {
     "name": "stdout",
     "output_type": "stream",
     "text": [
      "Requirement already satisfied: transformers in /usr/local/lib/python3.11/dist-packages (4.51.1)\n",
      "Requirement already satisfied: datasets in /usr/local/lib/python3.11/dist-packages (3.5.0)\n",
      "Requirement already satisfied: filelock in /usr/local/lib/python3.11/dist-packages (from transformers) (3.18.0)\n",
      "Requirement already satisfied: huggingface-hub<1.0,>=0.30.0 in /usr/local/lib/python3.11/dist-packages (from transformers) (0.30.2)\n",
      "Requirement already satisfied: numpy>=1.17 in /usr/local/lib/python3.11/dist-packages (from transformers) (1.26.4)\n",
      "Requirement already satisfied: packaging>=20.0 in /usr/local/lib/python3.11/dist-packages (from transformers) (24.2)\n",
      "Requirement already satisfied: pyyaml>=5.1 in /usr/local/lib/python3.11/dist-packages (from transformers) (6.0.2)\n",
      "Requirement already satisfied: regex!=2019.12.17 in /usr/local/lib/python3.11/dist-packages (from transformers) (2024.11.6)\n",
      "Requirement already satisfied: requests in /usr/local/lib/python3.11/dist-packages (from transformers) (2.32.3)\n",
      "Requirement already satisfied: tokenizers<0.22,>=0.21 in /usr/local/lib/python3.11/dist-packages (from transformers) (0.21.0)\n",
      "Requirement already satisfied: safetensors>=0.4.3 in /usr/local/lib/python3.11/dist-packages (from transformers) (0.5.2)\n",
      "Requirement already satisfied: tqdm>=4.27 in /usr/local/lib/python3.11/dist-packages (from transformers) (4.67.1)\n",
      "Requirement already satisfied: pyarrow>=15.0.0 in /usr/local/lib/python3.11/dist-packages (from datasets) (19.0.1)\n",
      "Requirement already satisfied: dill<0.3.9,>=0.3.0 in /usr/local/lib/python3.11/dist-packages (from datasets) (0.3.8)\n",
      "Requirement already satisfied: pandas in /usr/local/lib/python3.11/dist-packages (from datasets) (2.2.3)\n",
      "Requirement already satisfied: xxhash in /usr/local/lib/python3.11/dist-packages (from datasets) (3.5.0)\n",
      "Requirement already satisfied: multiprocess<0.70.17 in /usr/local/lib/python3.11/dist-packages (from datasets) (0.70.16)\n",
      "Collecting fsspec<=2024.12.0,>=2023.1.0 (from fsspec[http]<=2024.12.0,>=2023.1.0->datasets)\n",
      "  Downloading fsspec-2024.12.0-py3-none-any.whl.metadata (11 kB)\n",
      "Requirement already satisfied: aiohttp in /usr/local/lib/python3.11/dist-packages (from datasets) (3.11.16)\n",
      "Requirement already satisfied: aiohappyeyeballs>=2.3.0 in /usr/local/lib/python3.11/dist-packages (from aiohttp->datasets) (2.6.1)\n",
      "Requirement already satisfied: aiosignal>=1.1.2 in /usr/local/lib/python3.11/dist-packages (from aiohttp->datasets) (1.3.2)\n",
      "Requirement already satisfied: attrs>=17.3.0 in /usr/local/lib/python3.11/dist-packages (from aiohttp->datasets) (25.3.0)\n",
      "Requirement already satisfied: frozenlist>=1.1.1 in /usr/local/lib/python3.11/dist-packages (from aiohttp->datasets) (1.5.0)\n",
      "Requirement already satisfied: multidict<7.0,>=4.5 in /usr/local/lib/python3.11/dist-packages (from aiohttp->datasets) (6.2.0)\n",
      "Requirement already satisfied: propcache>=0.2.0 in /usr/local/lib/python3.11/dist-packages (from aiohttp->datasets) (0.3.1)\n",
      "Requirement already satisfied: yarl<2.0,>=1.17.0 in /usr/local/lib/python3.11/dist-packages (from aiohttp->datasets) (1.19.0)\n",
      "Requirement already satisfied: typing-extensions>=3.7.4.3 in /usr/local/lib/python3.11/dist-packages (from huggingface-hub<1.0,>=0.30.0->transformers) (4.13.1)\n",
      "Requirement already satisfied: mkl_fft in /usr/local/lib/python3.11/dist-packages (from numpy>=1.17->transformers) (1.3.8)\n",
      "Requirement already satisfied: mkl_random in /usr/local/lib/python3.11/dist-packages (from numpy>=1.17->transformers) (1.2.4)\n",
      "Requirement already satisfied: mkl_umath in /usr/local/lib/python3.11/dist-packages (from numpy>=1.17->transformers) (0.1.1)\n",
      "Requirement already satisfied: mkl in /usr/local/lib/python3.11/dist-packages (from numpy>=1.17->transformers) (2025.1.0)\n",
      "Requirement already satisfied: tbb4py in /usr/local/lib/python3.11/dist-packages (from numpy>=1.17->transformers) (2022.1.0)\n",
      "Requirement already satisfied: mkl-service in /usr/local/lib/python3.11/dist-packages (from numpy>=1.17->transformers) (2.4.1)\n",
      "Requirement already satisfied: charset-normalizer<4,>=2 in /usr/local/lib/python3.11/dist-packages (from requests->transformers) (3.4.1)\n",
      "Requirement already satisfied: idna<4,>=2.5 in /usr/local/lib/python3.11/dist-packages (from requests->transformers) (3.10)\n",
      "Requirement already satisfied: urllib3<3,>=1.21.1 in /usr/local/lib/python3.11/dist-packages (from requests->transformers) (2.3.0)\n",
      "Requirement already satisfied: certifi>=2017.4.17 in /usr/local/lib/python3.11/dist-packages (from requests->transformers) (2025.1.31)\n",
      "Requirement already satisfied: python-dateutil>=2.8.2 in /usr/local/lib/python3.11/dist-packages (from pandas->datasets) (2.9.0.post0)\n",
      "Requirement already satisfied: pytz>=2020.1 in /usr/local/lib/python3.11/dist-packages (from pandas->datasets) (2025.2)\n",
      "Requirement already satisfied: tzdata>=2022.7 in /usr/local/lib/python3.11/dist-packages (from pandas->datasets) (2025.2)\n",
      "Requirement already satisfied: six>=1.5 in /usr/local/lib/python3.11/dist-packages (from python-dateutil>=2.8.2->pandas->datasets) (1.17.0)\n",
      "Requirement already satisfied: intel-openmp<2026,>=2024 in /usr/local/lib/python3.11/dist-packages (from mkl->numpy>=1.17->transformers) (2024.2.0)\n",
      "Requirement already satisfied: tbb==2022.* in /usr/local/lib/python3.11/dist-packages (from mkl->numpy>=1.17->transformers) (2022.1.0)\n",
      "Requirement already satisfied: tcmlib==1.* in /usr/local/lib/python3.11/dist-packages (from tbb==2022.*->mkl->numpy>=1.17->transformers) (1.2.0)\n",
      "Requirement already satisfied: intel-cmplr-lib-rt in /usr/local/lib/python3.11/dist-packages (from mkl_umath->numpy>=1.17->transformers) (2024.2.0)\n",
      "Requirement already satisfied: intel-cmplr-lib-ur==2024.2.0 in /usr/local/lib/python3.11/dist-packages (from intel-openmp<2026,>=2024->mkl->numpy>=1.17->transformers) (2024.2.0)\n",
      "Downloading fsspec-2024.12.0-py3-none-any.whl (183 kB)\n",
      "\u001b[2K   \u001b[90m━━━━━━━━━━━━━━━━━━━━━━━━━━━━━━━━━━━━━━━━\u001b[0m \u001b[32m183.9/183.9 kB\u001b[0m \u001b[31m4.2 MB/s\u001b[0m eta \u001b[36m0:00:00\u001b[0mta \u001b[36m0:00:01\u001b[0m\n",
      "\u001b[?25hInstalling collected packages: fsspec\n",
      "  Attempting uninstall: fsspec\n",
      "    Found existing installation: fsspec 2025.3.2\n",
      "    Uninstalling fsspec-2025.3.2:\n",
      "      Successfully uninstalled fsspec-2025.3.2\n",
      "\u001b[31mERROR: pip's dependency resolver does not currently take into account all the packages that are installed. This behaviour is the source of the following dependency conflicts.\n",
      "gcsfs 2024.10.0 requires fsspec==2024.10.0, but you have fsspec 2024.12.0 which is incompatible.\n",
      "torch 2.5.1+cu124 requires nvidia-cublas-cu12==12.4.5.8; platform_system == \"Linux\" and platform_machine == \"x86_64\", but you have nvidia-cublas-cu12 12.8.4.1 which is incompatible.\n",
      "torch 2.5.1+cu124 requires nvidia-cudnn-cu12==9.1.0.70; platform_system == \"Linux\" and platform_machine == \"x86_64\", but you have nvidia-cudnn-cu12 9.3.0.75 which is incompatible.\n",
      "torch 2.5.1+cu124 requires nvidia-cufft-cu12==11.2.1.3; platform_system == \"Linux\" and platform_machine == \"x86_64\", but you have nvidia-cufft-cu12 11.3.3.83 which is incompatible.\n",
      "torch 2.5.1+cu124 requires nvidia-curand-cu12==10.3.5.147; platform_system == \"Linux\" and platform_machine == \"x86_64\", but you have nvidia-curand-cu12 10.3.9.90 which is incompatible.\n",
      "torch 2.5.1+cu124 requires nvidia-cusolver-cu12==11.6.1.9; platform_system == \"Linux\" and platform_machine == \"x86_64\", but you have nvidia-cusolver-cu12 11.7.3.90 which is incompatible.\n",
      "torch 2.5.1+cu124 requires nvidia-cusparse-cu12==12.3.1.170; platform_system == \"Linux\" and platform_machine == \"x86_64\", but you have nvidia-cusparse-cu12 12.5.8.93 which is incompatible.\n",
      "torch 2.5.1+cu124 requires nvidia-nvjitlink-cu12==12.4.127; platform_system == \"Linux\" and platform_machine == \"x86_64\", but you have nvidia-nvjitlink-cu12 12.8.93 which is incompatible.\n",
      "bigframes 1.36.0 requires rich<14,>=12.4.4, but you have rich 14.0.0 which is incompatible.\u001b[0m\u001b[31m\n",
      "\u001b[0mSuccessfully installed fsspec-2024.12.0\n"
     ]
    }
   ],
   "source": [
    "!pip install transformers datasets"
   ]
  },
  {
   "cell_type": "code",
   "execution_count": 4,
   "metadata": {
    "execution": {
     "iopub.execute_input": "2025-04-16T22:35:45.352812Z",
     "iopub.status.busy": "2025-04-16T22:35:45.352429Z",
     "iopub.status.idle": "2025-04-16T22:35:46.336001Z",
     "shell.execute_reply": "2025-04-16T22:35:46.334903Z",
     "shell.execute_reply.started": "2025-04-16T22:35:45.352788Z"
    },
    "trusted": true
   },
   "outputs": [
    {
     "name": "stderr",
     "output_type": "stream",
     "text": [
      "Some weights of the model checkpoint at dbmdz/bert-large-cased-finetuned-conll03-english were not used when initializing BertForTokenClassification: ['bert.pooler.dense.bias', 'bert.pooler.dense.weight']\n",
      "- This IS expected if you are initializing BertForTokenClassification from the checkpoint of a model trained on another task or with another architecture (e.g. initializing a BertForSequenceClassification model from a BertForPreTraining model).\n",
      "- This IS NOT expected if you are initializing BertForTokenClassification from the checkpoint of a model that you expect to be exactly identical (initializing a BertForSequenceClassification model from a BertForSequenceClassification model).\n",
      "Device set to use cpu\n"
     ]
    },
    {
     "name": "stdout",
     "output_type": "stream",
     "text": [
      "{'entity_group': 'ORG', 'score': 0.9919034, 'word': 'Hugging Face Inc', 'start': 0, 'end': 16}\n",
      "{'entity_group': 'LOC', 'score': 0.999103, 'word': 'New York City', 'start': 40, 'end': 53}\n",
      "{'entity_group': 'PER', 'score': 0.98748785, 'word': 'Julien Chaumond', 'start': 76, 'end': 91}\n",
      "{'entity_group': 'PER', 'score': 0.9993845, 'word': 'Thomas Wolf', 'start': 96, 'end': 107}\n"
     ]
    }
   ],
   "source": [
    "#The following snippet load Bert and test the model on a toy example\n",
    "\n",
    "\n",
    "from transformers import AutoTokenizer, AutoModelForTokenClassification, pipeline\n",
    "\n",
    "# Automatically loads the correct tokenizer for the model you're using,\n",
    "# AutoModelForTokenClassification: Loads a pretrained model specifically for token classification tasks like NER.\n",
    "# pipeline: Hugging Face's high-level API that wraps models for easy inference. Here we’ll use it for NER\n",
    "\n",
    "\n",
    "model_checkpoint = \"dbmdz/bert-large-cased-finetuned-conll03-english\" # A pretrained BERT model fine-tuned for Named Entity Recognition (NER) on the CoNLL-2003 dataset.\n",
    "\n",
    "tokenizer = AutoTokenizer.from_pretrained(model_checkpoint)\n",
    "model = AutoModelForTokenClassification.from_pretrained(model_checkpoint)\n",
    "\n",
    "\n",
    "ner_pipeline = pipeline(\"ner\", model=model, tokenizer=tokenizer, grouped_entities=True)\n",
    "\n",
    "# Example\n",
    "text = \"Hugging Face Inc. is a company based in New York City. Its founders include Julien Chaumond and Thomas Wolf.\"\n",
    "\n",
    "ner_results = ner_pipeline(text)\n",
    "\n",
    "\n",
    "for entity in ner_results:\n",
    "    print(entity)"
   ]
  },
  {
   "cell_type": "code",
   "execution_count": 8,
   "metadata": {
    "execution": {
     "iopub.execute_input": "2025-04-16T22:40:18.233814Z",
     "iopub.status.busy": "2025-04-16T22:40:18.233129Z",
     "iopub.status.idle": "2025-04-16T22:40:18.676719Z",
     "shell.execute_reply": "2025-04-16T22:40:18.675478Z",
     "shell.execute_reply.started": "2025-04-16T22:40:18.233778Z"
    },
    "trusted": true
   },
   "outputs": [
    {
     "name": "stderr",
     "output_type": "stream",
     "text": [
      "Device set to use cpu\n"
     ]
    },
    {
     "name": "stdout",
     "output_type": "stream",
     "text": [
      "{'entity_group': 'Age', 'score': 0.99710876, 'word': '28 - year - old', 'start': 10, 'end': 21}\n",
      "{'entity_group': 'History', 'score': 0.99868, 'word': 'previously healthy', 'start': 22, 'end': 40}\n",
      "{'entity_group': 'Sex', 'score': 0.99977785, 'word': 'man', 'start': 41, 'end': 44}\n",
      "{'entity_group': 'Clinical_event', 'score': 0.9994759, 'word': 'presented', 'start': 45, 'end': 54}\n",
      "{'entity_group': 'Duration', 'score': 0.9992834, 'word': '6 - week', 'start': 62, 'end': 68}\n",
      "{'entity_group': 'Sign_symptom', 'score': 0.9999378, 'word': 'pal', 'start': 80, 'end': 83}\n",
      "{'entity_group': 'Sign_symptom', 'score': 0.98360693, 'word': '##pit', 'start': 83, 'end': 86}\n",
      "{'entity_group': 'Sign_symptom', 'score': 0.95622605, 'word': 'symptoms', 'start': 105, 'end': 113}\n",
      "{'entity_group': 'Frequency', 'score': 0.6091099, 'word': '2', 'start': 136, 'end': 137}\n",
      "{'entity_group': 'Detailed_description', 'score': 0.88969606, 'word': '– 3 times', 'start': 137, 'end': 145}\n",
      "{'entity_group': 'Detailed_description', 'score': 0.99952656, 'word': 'up to 30 minutes at a time', 'start': 163, 'end': 189}\n",
      "{'entity_group': 'Sign_symptom', 'score': 0.999897, 'word': 'd', 'start': 222, 'end': 223}\n",
      "{'entity_group': 'Lab_value', 'score': 0.99897707, 'word': 'grade 2 / 6', 'start': 244, 'end': 253}\n",
      "{'entity_group': 'Detailed_description', 'score': 0.999974, 'word': 'ho', 'start': 254, 'end': 256}\n",
      "{'entity_group': 'Detailed_description', 'score': 0.9999522, 'word': '##los', 'start': 256, 'end': 259}\n",
      "{'entity_group': 'Detailed_description', 'score': 0.9820825, 'word': '##ystolic', 'start': 259, 'end': 266}\n",
      "{'entity_group': 'Biological_structure', 'score': 0.99424964, 'word': 'tricuspid', 'start': 267, 'end': 276}\n",
      "{'entity_group': 'Sign_symptom', 'score': 0.99994874, 'word': 'reg', 'start': 277, 'end': 280}\n",
      "{'entity_group': 'Sign_symptom', 'score': 0.52670056, 'word': '##urg', 'start': 280, 'end': 283}\n",
      "{'entity_group': 'Sign_symptom', 'score': 0.96008253, 'word': '##itation murmur', 'start': 283, 'end': 304}\n",
      "{'entity_group': 'Biological_structure', 'score': 0.9999429, 'word': 'left sternal border', 'start': 324, 'end': 343}\n",
      "{'entity_group': 'Diagnostic_procedure', 'score': 0.99958885, 'word': 'physical examination', 'start': 376, 'end': 403}\n",
      "{'entity_group': 'Lab_value', 'score': 0.99992716, 'word': 'un', 'start': 412, 'end': 414}\n"
     ]
    }
   ],
   "source": [
    "\n",
    "\n",
    "\n",
    "model_checkpoint = \"d4data/biomedical-ner-all\" \n",
    "\n",
    "tokenizer = AutoTokenizer.from_pretrained(model_checkpoint)\n",
    "model = AutoModelForTokenClassification.from_pretrained(model_checkpoint)\n",
    "\n",
    "\n",
    "ner_pipeline = pipeline(\"ner\", model=model, tokenizer=tokenizer, grouped_entities=True)\n",
    "\n",
    "# Example\n",
    "text = \"\"\"\n",
    "\tCASE: A 28-year-old previously healthy man presented with a 6-week history of palpitations. \n",
    "      The symptoms occurred during rest, 2–3 times per week, lasted up to 30 minutes at a time \n",
    "      and were associated with dyspnea. Except for a grade 2/6 holosystolic tricuspid regurgitation \n",
    "      murmur (best heard at the left sternal border with inspiratory accentuation), physical \n",
    "      examination yielded unremarkable findings.\n",
    "      \"\"\"\n",
    "\n",
    "\n",
    "ner_results = ner_pipeline(text)\n",
    "\n",
    "\n",
    "for entity in ner_results:\n",
    "    print(entity)"
   ]
  },
  {
   "cell_type": "markdown",
   "metadata": {},
   "source": [
    "# in NER output because with BERT tokenizer, which uses WordPiece tokenization, words like \"ho\", \"##los\", and \"##ystolic\" get splitted. This means it splits unknown or rare words into subword units — especially in biomedical or clinical texts, even if\n",
    "# group entities is set equal to True. A custom function can be used to merge subwords in postprocessing"
   ]
  },
  {
   "cell_type": "markdown",
   "metadata": {},
   "source": [
    "# BERT tokenizer uses WordPiece tokenization, so in NER output, words like \"ho\", \"##los\", and \"##ystolic\" get splitted. This means model splits unknown or rare words into subword units — especially in biomedical or clinical texts, even if\n",
    "# group entities is set equal to True. A custom function can be used to merge subwords in postprocessing"
   ]
  }
 ],
 "metadata": {
  "kaggle": {
   "accelerator": "none",
   "dataSources": [],
   "dockerImageVersionId": 31012,
   "isGpuEnabled": false,
   "isInternetEnabled": true,
   "language": "python",
   "sourceType": "notebook"
  },
  "kernelspec": {
   "display_name": "Python 3",
   "language": "python",
   "name": "python3"
  },
  "language_info": {
   "codemirror_mode": {
    "name": "ipython",
    "version": 3
   },
   "file_extension": ".py",
   "mimetype": "text/x-python",
   "name": "python",
   "nbconvert_exporter": "python",
   "pygments_lexer": "ipython3",
   "version": "3.11.11"
  }
 },
 "nbformat": 4,
 "nbformat_minor": 4
}
